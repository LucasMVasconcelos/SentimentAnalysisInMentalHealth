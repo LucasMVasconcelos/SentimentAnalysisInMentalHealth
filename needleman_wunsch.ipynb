{
 "cells": [
  {
   "cell_type": "code",
   "execution_count": 1,
   "id": "308069bb-d155-4a34-b468-7916808a286c",
   "metadata": {},
   "outputs": [],
   "source": [
    "import pandas as pd\n",
    "from utils import wcc\n",
    "from utils import process_dataframe\n",
    "from utils import function\n",
    "import itertools"
   ]
  },
  {
   "cell_type": "code",
   "execution_count": 2,
   "id": "5c2f172a-0cf0-412b-97e7-d9757a5576fd",
   "metadata": {},
   "outputs": [],
   "source": [
    "def generate_substitution_matrices(symbols, range_vals):\n",
    "    pairs = list(itertools.product(symbols, repeat=2))\n",
    "    value_combinations = list(itertools.product(range_vals, repeat=len(pairs)))\n",
    "    \n",
    "    matrices = []\n",
    "    for values in value_combinations:\n",
    "        matrix = {pair: value for pair, value in zip(pairs, values)}\n",
    "        matrices.append(matrix)\n",
    "    \n",
    "    return matrices\n"
   ]
  },
  {
   "cell_type": "code",
   "execution_count": 3,
   "id": "273a8311-a8d3-454a-8639-4ce3a5190d3d",
   "metadata": {},
   "outputs": [],
   "source": [
    "def concatenar_coluna_para_string(df, nome_coluna):\n",
    "    # Verificar se a coluna existe no dataframe\n",
    "    if nome_coluna not in df.columns:\n",
    "        return \"Coluna não encontrada.\"\n",
    "\n",
    "    # Concatenar todos os itens da coluna em uma string\n",
    "    string_concatenada = ''.join(df[nome_coluna].astype(str))\n",
    "\n",
    "    return string_concatenada"
   ]
  },
  {
   "cell_type": "code",
   "execution_count": 4,
   "id": "8f745ae4-b963-4c6d-95f7-2a4047b6409b",
   "metadata": {},
   "outputs": [],
   "source": [
    "def igualar_tamanho(df1, df2):\n",
    "    if len(df1) > len(df2):\n",
    "        df1=df1.head(-1)\n",
    "    elif len(df2) > len(df1):\n",
    "        df2=df2.head(-1)\n",
    "    else:\n",
    "        a=1\n",
    "    return df1, df2"
   ]
  },
  {
   "cell_type": "code",
   "execution_count": 5,
   "id": "7305023d-7378-4e31-befa-1d60c1159926",
   "metadata": {},
   "outputs": [],
   "source": [
    "df=pd.read_excel(\"/home/lucas/Documentos/SentimentAnalysisInMentalHealth/Datasets/transcribe_sentiment_classified.xlsx\")"
   ]
  },
  {
   "cell_type": "code",
   "execution_count": 6,
   "id": "c2658edf-91e5-473b-9a42-9b60e1713789",
   "metadata": {},
   "outputs": [],
   "source": [
    "simbols=[]\n",
    "for index,row in df.iterrows():\n",
    "    if row[\"Sentimento\"]==\"neutro\":\n",
    "        simbols.append('n')\n",
    "    elif row[\"Sentimento\"]==\"positivo\":\n",
    "        simbols.append('p')\n",
    "    else:\n",
    "        simbols.append('z')"
   ]
  },
  {
   "cell_type": "code",
   "execution_count": 7,
   "id": "6b71bd18-ab99-4b26-886a-f51fec7217da",
   "metadata": {},
   "outputs": [],
   "source": [
    "df[\"simbol_sentiment\"]=simbols"
   ]
  },
  {
   "cell_type": "code",
   "execution_count": 21,
   "id": "4bf4a257-bd1c-41cb-a001-5923a090adaf",
   "metadata": {},
   "outputs": [],
   "source": [
    "symbols = ['p', 'n', 'z']\n",
    "\n",
    "# Intervalo de valores possíveis para as penalidades\n",
    "range_vals = list(range(-1, 2))  # [-2, -1, 0, 1, 2]\n",
    "\n",
    "# Gerar todas as possíveis matrizes de substituição\n",
    "all_matrices = generate_substitution_matrices(symbols, range_vals)"
   ]
  },
  {
   "cell_type": "code",
   "execution_count": 25,
   "id": "fe53b009-84eb-40aa-90b7-d38fc6ad0885",
   "metadata": {},
   "outputs": [
    {
     "data": {
      "text/plain": [
       "('p', 'p')"
      ]
     },
     "execution_count": 25,
     "metadata": {},
     "output_type": "execute_result"
    }
   ],
   "source": [
    "matriz"
   ]
  },
  {
   "cell_type": "code",
   "execution_count": 27,
   "id": "c60e77ae-74ee-4d53-87db-68e556801c5f",
   "metadata": {},
   "outputs": [],
   "source": [
    "import numpy as np\n",
    "def needleman_wunsch_matriz(seq1, seq2, gap, substitution_matrix=None):\n",
    "    # Inicialização da matriz de pontuação\n",
    "    n = len(seq1)\n",
    "    m = len(seq2)\n",
    "    score_matrix = [[0 for j in range(m + 1)] for i in range(n + 1)]\n",
    "\n",
    "    # Inicialização da primeira linha e primeira coluna\n",
    "    for i in range(1, n + 1):\n",
    "        score_matrix[i][0] = i * gap\n",
    "    for j in range(1, m + 1):\n",
    "        score_matrix[0][j] = j * gap\n",
    "\n",
    "    # Preenchimento da matriz de pontuação\n",
    "    for i in range(1, n + 1):\n",
    "        for j in range(1, m + 1):\n",
    "            value=substitution_matrix.get((seq1[i - 1], seq2[j - 1]), -1)\n",
    "            match = score_matrix[i - 1][j - 1] + value\n",
    "            delete = score_matrix[i - 1][j] + gap\n",
    "            insert = score_matrix[i][j - 1] + gap\n",
    "            score_matrix[i][j] = max(match, delete, insert)\n",
    "    # Recuperação do escore do alinhamento ótimo\n",
    "    alignment_score = score_matrix[-1][-1]\n",
    "    return alignment_score,np.array(score_matrix).max()"
   ]
  },
  {
   "cell_type": "code",
   "execution_count": 31,
   "id": "133234ef-6927-4da9-8f96-b06d82ea4745",
   "metadata": {},
   "outputs": [
    {
     "ename": "TypeError",
     "evalue": "needleman_wunsch_matriz() takes from 2 to 3 positional arguments but 4 were given",
     "output_type": "error",
     "traceback": [
      "\u001b[0;31m---------------------------------------------------------------------------\u001b[0m",
      "\u001b[0;31mTypeError\u001b[0m                                 Traceback (most recent call last)",
      "Cell \u001b[0;32mIn[31], line 20\u001b[0m\n\u001b[1;32m     18\u001b[0m string_terapeuta\u001b[38;5;241m=\u001b[39mconcatenar_coluna_para_string(df_terapeuta, itens_terapeuta)\n\u001b[1;32m     19\u001b[0m \u001b[38;5;28;01mfor\u001b[39;00m matriz \u001b[38;5;129;01min\u001b[39;00m  all_matrices[\u001b[38;5;241m0\u001b[39m:\u001b[38;5;241m10000\u001b[39m]:\n\u001b[0;32m---> 20\u001b[0m     score_last,score_max\u001b[38;5;241m=\u001b[39m\u001b[43mfunction\u001b[49m\u001b[38;5;241;43m.\u001b[39;49m\u001b[43mneedleman_wunsch_matriz\u001b[49m\u001b[43m(\u001b[49m\u001b[43mstring_paciente\u001b[49m\u001b[43m,\u001b[49m\u001b[43m \u001b[49m\u001b[43mstring_terapeuta\u001b[49m\u001b[43m,\u001b[49m\u001b[38;5;241;43m-\u001b[39;49m\u001b[38;5;241;43m1\u001b[39;49m\u001b[43m,\u001b[49m\u001b[43mmatriz\u001b[49m\u001b[43m)\u001b[49m\n\u001b[1;32m     21\u001b[0m     df_output \u001b[38;5;241m=\u001b[39m pd\u001b[38;5;241m.\u001b[39mconcat([df_output,pd\u001b[38;5;241m.\u001b[39mDataFrame\u001b[38;5;241m.\u001b[39mfrom_dict({\u001b[38;5;124m'\u001b[39m\u001b[38;5;124msessao\u001b[39m\u001b[38;5;124m'\u001b[39m: [sessao], \n\u001b[1;32m     22\u001b[0m                                                                      \u001b[38;5;124m'\u001b[39m\u001b[38;5;124mitens_paciente\u001b[39m\u001b[38;5;124m'\u001b[39m: [itens_paciente], \n\u001b[1;32m     23\u001b[0m                                                                      \u001b[38;5;124m'\u001b[39m\u001b[38;5;124mitens_terapeuta\u001b[39m\u001b[38;5;124m'\u001b[39m: [itens_terapeuta], \n\u001b[0;32m   (...)\u001b[0m\n\u001b[1;32m     26\u001b[0m                                                                      \u001b[38;5;124m'\u001b[39m\u001b[38;5;124mmatriz\u001b[39m\u001b[38;5;124m'\u001b[39m:[matriz]\n\u001b[1;32m     27\u001b[0m                                                                     })])\n",
      "\u001b[0;31mTypeError\u001b[0m: needleman_wunsch_matriz() takes from 2 to 3 positional arguments but 4 were given"
     ]
    }
   ],
   "source": [
    "df_output=pd.DataFrame(columns=['sessao', 'itens_paciente', 'itens_terapeuta','score_ultimo','score_max','matriz'])\n",
    "for sessao in ['SPCOMVC_T010_P001_09052020']:# in df.sessao.unique():\n",
    "    df_sessao=df.loc[df[\"sessao\"]== sessao]\n",
    "    sentimentos=[\"p\",\"n\",\"z\"]\n",
    "    sumarizacao_sessao_paciente=function.processar_dataframe(df_sessao,\"Falante\",\"simbol_sentiment\")\n",
    "    sumarizacao_sessao_terapeuta=function.processar_dataframe(df_sessao,\"Falante\",\"simbol_sentiment\")\n",
    "    df_paciente=sumarizacao_sessao_paciente[sumarizacao_sessao_paciente[\"Categoria\"]==\"p\"]\n",
    "    df_terapeuta=sumarizacao_sessao_terapeuta[sumarizacao_sessao_terapeuta[\"Categoria\"]==\"t\"]\n",
    "    df_paciente,df_terapeuta=igualar_tamanho(df_paciente,df_terapeuta)\n",
    "    combinacoes_itens = [(p, t) for p in [\"Primeiro_valor_B\", \"Ultimo_valor_B\", \"Mais_repetido_B\"] \n",
    "                                   for t in [\"Primeiro_valor_B\", \"Ultimo_valor_B\", \"Mais_repetido_B\"]]\n",
    "        # Loop sobre as combinações de itens_paciente e itens_terapeuta\n",
    "    for itens_paciente, itens_terapeuta in combinacoes_itens:\n",
    "        dataframe_serie = pd.DataFrame(columns=['Paciente', 'Terapeuta'])\n",
    "        dataframe_serie['Paciente']=df_paciente[itens_paciente].values\n",
    "        dataframe_serie['Terapeuta']=df_terapeuta[itens_terapeuta].values\n",
    "        string_paciente=concatenar_coluna_para_string(df_paciente, itens_paciente)\n",
    "        string_terapeuta=concatenar_coluna_para_string(df_terapeuta, itens_terapeuta)\n",
    "        for matriz in  all_matrices[0:10000]:\n",
    "            score_last,score_max=function.needleman_wunsch_matriz(string_paciente, string_terapeuta,-1,matriz)\n",
    "            df_output = pd.concat([df_output,pd.DataFrame.from_dict({'sessao': [sessao], \n",
    "                                                                             'itens_paciente': [itens_paciente], \n",
    "                                                                             'itens_terapeuta': [itens_terapeuta], \n",
    "                                                                             'score_ultimo':[score_last],\n",
    "                                                                             'score_max':[score_max],\n",
    "                                                                             'matriz':[matriz]\n",
    "                                                                            })])"
   ]
  },
  {
   "cell_type": "code",
   "execution_count": 29,
   "id": "a81ba539-bf3a-4228-993e-9cd7a02cc562",
   "metadata": {},
   "outputs": [
    {
     "data": {
      "text/html": [
       "<div>\n",
       "<style scoped>\n",
       "    .dataframe tbody tr th:only-of-type {\n",
       "        vertical-align: middle;\n",
       "    }\n",
       "\n",
       "    .dataframe tbody tr th {\n",
       "        vertical-align: top;\n",
       "    }\n",
       "\n",
       "    .dataframe thead th {\n",
       "        text-align: right;\n",
       "    }\n",
       "</style>\n",
       "<table border=\"1\" class=\"dataframe\">\n",
       "  <thead>\n",
       "    <tr style=\"text-align: right;\">\n",
       "      <th></th>\n",
       "      <th>sessao</th>\n",
       "      <th>itens_paciente</th>\n",
       "      <th>itens_terapeuta</th>\n",
       "      <th>score_ultimo</th>\n",
       "      <th>score_max</th>\n",
       "      <th>matriz</th>\n",
       "    </tr>\n",
       "  </thead>\n",
       "  <tbody>\n",
       "    <tr>\n",
       "      <th>0</th>\n",
       "      <td>SPCOMVC_T010_P001_09052020</td>\n",
       "      <td>Primeiro_valor_B</td>\n",
       "      <td>Primeiro_valor_B</td>\n",
       "      <td>-87</td>\n",
       "      <td>0</td>\n",
       "      <td>{('p', 'p'): -1, ('p', 'n'): -1, ('p', 'z'): -...</td>\n",
       "    </tr>\n",
       "    <tr>\n",
       "      <th>0</th>\n",
       "      <td>SPCOMVC_T010_P001_09052020</td>\n",
       "      <td>Primeiro_valor_B</td>\n",
       "      <td>Ultimo_valor_B</td>\n",
       "      <td>-87</td>\n",
       "      <td>0</td>\n",
       "      <td>{('p', 'p'): -1, ('p', 'n'): -1, ('p', 'z'): -...</td>\n",
       "    </tr>\n",
       "    <tr>\n",
       "      <th>0</th>\n",
       "      <td>SPCOMVC_T010_P001_09052020</td>\n",
       "      <td>Primeiro_valor_B</td>\n",
       "      <td>Mais_repetido_B</td>\n",
       "      <td>-87</td>\n",
       "      <td>0</td>\n",
       "      <td>{('p', 'p'): -1, ('p', 'n'): -1, ('p', 'z'): -...</td>\n",
       "    </tr>\n",
       "    <tr>\n",
       "      <th>0</th>\n",
       "      <td>SPCOMVC_T010_P001_09052020</td>\n",
       "      <td>Ultimo_valor_B</td>\n",
       "      <td>Primeiro_valor_B</td>\n",
       "      <td>-87</td>\n",
       "      <td>0</td>\n",
       "      <td>{('p', 'p'): -1, ('p', 'n'): -1, ('p', 'z'): -...</td>\n",
       "    </tr>\n",
       "    <tr>\n",
       "      <th>0</th>\n",
       "      <td>SPCOMVC_T010_P001_09052020</td>\n",
       "      <td>Ultimo_valor_B</td>\n",
       "      <td>Ultimo_valor_B</td>\n",
       "      <td>-87</td>\n",
       "      <td>0</td>\n",
       "      <td>{('p', 'p'): -1, ('p', 'n'): -1, ('p', 'z'): -...</td>\n",
       "    </tr>\n",
       "    <tr>\n",
       "      <th>0</th>\n",
       "      <td>SPCOMVC_T010_P001_09052020</td>\n",
       "      <td>Ultimo_valor_B</td>\n",
       "      <td>Mais_repetido_B</td>\n",
       "      <td>-87</td>\n",
       "      <td>0</td>\n",
       "      <td>{('p', 'p'): -1, ('p', 'n'): -1, ('p', 'z'): -...</td>\n",
       "    </tr>\n",
       "    <tr>\n",
       "      <th>0</th>\n",
       "      <td>SPCOMVC_T010_P001_09052020</td>\n",
       "      <td>Mais_repetido_B</td>\n",
       "      <td>Primeiro_valor_B</td>\n",
       "      <td>-87</td>\n",
       "      <td>0</td>\n",
       "      <td>{('p', 'p'): -1, ('p', 'n'): -1, ('p', 'z'): -...</td>\n",
       "    </tr>\n",
       "    <tr>\n",
       "      <th>0</th>\n",
       "      <td>SPCOMVC_T010_P001_09052020</td>\n",
       "      <td>Mais_repetido_B</td>\n",
       "      <td>Ultimo_valor_B</td>\n",
       "      <td>-87</td>\n",
       "      <td>0</td>\n",
       "      <td>{('p', 'p'): -1, ('p', 'n'): -1, ('p', 'z'): -...</td>\n",
       "    </tr>\n",
       "    <tr>\n",
       "      <th>0</th>\n",
       "      <td>SPCOMVC_T010_P001_09052020</td>\n",
       "      <td>Mais_repetido_B</td>\n",
       "      <td>Mais_repetido_B</td>\n",
       "      <td>-87</td>\n",
       "      <td>0</td>\n",
       "      <td>{('p', 'p'): -1, ('p', 'n'): -1, ('p', 'z'): -...</td>\n",
       "    </tr>\n",
       "  </tbody>\n",
       "</table>\n",
       "</div>"
      ],
      "text/plain": [
       "                       sessao    itens_paciente   itens_terapeuta  \\\n",
       "0  SPCOMVC_T010_P001_09052020  Primeiro_valor_B  Primeiro_valor_B   \n",
       "0  SPCOMVC_T010_P001_09052020  Primeiro_valor_B    Ultimo_valor_B   \n",
       "0  SPCOMVC_T010_P001_09052020  Primeiro_valor_B   Mais_repetido_B   \n",
       "0  SPCOMVC_T010_P001_09052020    Ultimo_valor_B  Primeiro_valor_B   \n",
       "0  SPCOMVC_T010_P001_09052020    Ultimo_valor_B    Ultimo_valor_B   \n",
       "0  SPCOMVC_T010_P001_09052020    Ultimo_valor_B   Mais_repetido_B   \n",
       "0  SPCOMVC_T010_P001_09052020   Mais_repetido_B  Primeiro_valor_B   \n",
       "0  SPCOMVC_T010_P001_09052020   Mais_repetido_B    Ultimo_valor_B   \n",
       "0  SPCOMVC_T010_P001_09052020   Mais_repetido_B   Mais_repetido_B   \n",
       "\n",
       "  score_ultimo score_max                                             matriz  \n",
       "0          -87         0  {('p', 'p'): -1, ('p', 'n'): -1, ('p', 'z'): -...  \n",
       "0          -87         0  {('p', 'p'): -1, ('p', 'n'): -1, ('p', 'z'): -...  \n",
       "0          -87         0  {('p', 'p'): -1, ('p', 'n'): -1, ('p', 'z'): -...  \n",
       "0          -87         0  {('p', 'p'): -1, ('p', 'n'): -1, ('p', 'z'): -...  \n",
       "0          -87         0  {('p', 'p'): -1, ('p', 'n'): -1, ('p', 'z'): -...  \n",
       "0          -87         0  {('p', 'p'): -1, ('p', 'n'): -1, ('p', 'z'): -...  \n",
       "0          -87         0  {('p', 'p'): -1, ('p', 'n'): -1, ('p', 'z'): -...  \n",
       "0          -87         0  {('p', 'p'): -1, ('p', 'n'): -1, ('p', 'z'): -...  \n",
       "0          -87         0  {('p', 'p'): -1, ('p', 'n'): -1, ('p', 'z'): -...  "
      ]
     },
     "execution_count": 29,
     "metadata": {},
     "output_type": "execute_result"
    }
   ],
   "source": [
    "df_output"
   ]
  },
  {
   "cell_type": "code",
   "execution_count": null,
   "id": "cdca9e66-fe0e-4895-81a0-59bcda4093cc",
   "metadata": {},
   "outputs": [],
   "source": [
    "1+1"
   ]
  },
  {
   "cell_type": "code",
   "execution_count": null,
   "id": "8bb231f9-61ba-498b-99e8-ec0b9447ed96",
   "metadata": {},
   "outputs": [],
   "source": [
    "df_output_unique=df_output[[\"sentimento paciente\",\n",
    "           \"itens_paciente\",\n",
    "           \"sentimento terapeuta\",\"itens_terapeuta\",\t\n",
    "           \"window\",\n",
    "           \"winc\",\n",
    "           \"lag\"]].drop_duplicates()"
   ]
  },
  {
   "cell_type": "code",
   "execution_count": null,
   "id": "f38781be-adb4-4c5b-9ca7-e9a50c8e2e91",
   "metadata": {},
   "outputs": [],
   "source": [
    "df_result.head()"
   ]
  },
  {
   "cell_type": "code",
   "execution_count": null,
   "id": "71a05f82-cdb2-4647-8db8-297d9fdb65f5",
   "metadata": {},
   "outputs": [],
   "source": [
    "correl_max_mean_list_paciente=[]\n",
    "p_valor_max_mean_list_paciente=[]\n",
    "correl_max_mean_list_terapeuta=[]\n",
    "p_valor_max_mean_list_terapeuta=[]\n",
    "correl_min_mean_list_paciente=[]\n",
    "p_valor_min_mean_list_paciente=[]\n",
    "correl_min_mean_list_terapeuta=[]\n",
    "p_valor_min_mean_list_terapeuta=[]\n",
    "correl_max_median_list_paciente=[]\n",
    "p_valor_max_median_list_paciente=[]\n",
    "correl_max_median_list_terapeuta=[]\n",
    "p_valor_max_median_list_terapeuta=[]\n",
    "correl_min_median_list_paciente=[]\n",
    "p_valor_min_median_list_paciente=[]\n",
    "correl_min_median_list_terapeuta=[]\n",
    "p_valor_min_median_list_terapeuta=[]\n",
    "for index,row in df_output_unique.iterrows():\n",
    "    df_result_comb=df_output[(df_output[\"sentimento paciente\"]==row[\"sentimento paciente\"])&\n",
    "                            (df_output[\"itens_paciente\"]==row[\"itens_paciente\"])&\n",
    "                            (df_output[\"sentimento terapeuta\"]==row[\"sentimento terapeuta\"])&\n",
    "                            (df_output[\"itens_terapeuta\"]==row[\"itens_terapeuta\"])&\n",
    "                            (df_output[\"window\"]==row[\"window\"])&\n",
    "                            (df_output[\"winc\"]==row[\"winc\"])&\n",
    "                            (df_output[\"lag\"]==row[\"lag\"])\n",
    "                            ]\n",
    "    correl_max_mean_list_terapeuta.append(calcular_correlacao(df_result_comb, 'max_mean', 'WaiTerapeuta')[0])\n",
    "    p_valor_max_mean_list_terapeuta.append(calcular_correlacao(df_result_comb, 'max_mean', 'WaiTerapeuta')[1])\n",
    "    correl_max_mean_list_paciente.append(calcular_correlacao(df_result_comb, 'max_mean', 'WaiPaciente')[0])\n",
    "    p_valor_max_mean_list_paciente.append(calcular_correlacao(df_result_comb, 'max_mean', 'WaiPaciente')[1])\n",
    "    correl_min_mean_list_terapeuta.append(calcular_correlacao(df_result_comb, 'min_mean', 'WaiTerapeuta')[0])\n",
    "    p_valor_min_mean_list_terapeuta.append(calcular_correlacao(df_result_comb, 'min_mean', 'WaiTerapeuta')[1])\n",
    "    correl_min_mean_list_paciente.append(calcular_correlacao(df_result_comb, 'min_mean', 'WaiPaciente')[0])\n",
    "    p_valor_min_mean_list_paciente.append(calcular_correlacao(df_result_comb, 'min_mean', 'WaiPaciente')[1])\n",
    "    correl_max_median_list_terapeuta.append(calcular_correlacao(df_result_comb, 'max_median', 'WaiTerapeuta')[0])\n",
    "    p_valor_max_median_list_terapeuta.append(calcular_correlacao(df_result_comb, 'max_median', 'WaiTerapeuta')[1])\n",
    "    correl_max_median_list_paciente.append(calcular_correlacao(df_result_comb, 'max_median', 'WaiPaciente')[0])\n",
    "    p_valor_max_median_list_paciente.append(calcular_correlacao(df_result_comb, 'max_median', 'WaiPaciente')[1])\n",
    "    correl_min_median_list_terapeuta.append(calcular_correlacao(df_result_comb, 'min_median', 'WaiTerapeuta')[0])\n",
    "    p_valor_min_median_list_terapeuta.append(calcular_correlacao(df_result_comb, 'min_median', 'WaiTerapeuta')[1])\n",
    "    correl_min_median_list_paciente.append(calcular_correlacao(df_result_comb, 'min_median', 'WaiPaciente')[0])\n",
    "    p_valor_min_median_list_paciente.append(calcular_correlacao(df_result_comb, 'min_median', 'WaiPaciente')[1])\n",
    "    #print(comb,df_filtrado_max_mean_T['max_mean'].corr(df_filtrado_max_mean_T['WaiTerapeuta']))"
   ]
  },
  {
   "cell_type": "code",
   "execution_count": null,
   "id": "6abe3798-7120-4dd2-8ad0-61bcced4d787",
   "metadata": {},
   "outputs": [],
   "source": []
  }
 ],
 "metadata": {
  "kernelspec": {
   "display_name": "Python 3 (ipykernel)",
   "language": "python",
   "name": "python3"
  },
  "language_info": {
   "codemirror_mode": {
    "name": "ipython",
    "version": 3
   },
   "file_extension": ".py",
   "mimetype": "text/x-python",
   "name": "python",
   "nbconvert_exporter": "python",
   "pygments_lexer": "ipython3",
   "version": "3.10.12"
  }
 },
 "nbformat": 4,
 "nbformat_minor": 5
}
