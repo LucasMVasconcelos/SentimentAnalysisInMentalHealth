{
 "cells": [
  {
   "cell_type": "code",
   "execution_count": 48,
   "id": "308069bb-d155-4a34-b468-7916808a286c",
   "metadata": {},
   "outputs": [],
   "source": [
    "import pandas as pd\n",
    "from utils import wcc\n",
    "from utils import process_dataframe\n",
    "from utils import function"
   ]
  },
  {
   "cell_type": "code",
   "execution_count": 49,
   "id": "273a8311-a8d3-454a-8639-4ce3a5190d3d",
   "metadata": {},
   "outputs": [],
   "source": [
    "def concatenar_coluna_para_string(df, nome_coluna):\n",
    "    # Verificar se a coluna existe no dataframe\n",
    "    if nome_coluna not in df.columns:\n",
    "        return \"Coluna não encontrada.\"\n",
    "\n",
    "    # Concatenar todos os itens da coluna em uma string\n",
    "    string_concatenada = ''.join(df[nome_coluna].astype(str))\n",
    "\n",
    "    return string_concatenada"
   ]
  },
  {
   "cell_type": "code",
   "execution_count": 37,
   "id": "8f745ae4-b963-4c6d-95f7-2a4047b6409b",
   "metadata": {},
   "outputs": [],
   "source": [
    "def igualar_tamanho(df1, df2):\n",
    "    if len(df1) > len(df2):\n",
    "        df1=df1.head(-1)\n",
    "    elif len(df2) > len(df1):\n",
    "        df2=df2.head(-1)\n",
    "    else:\n",
    "        a=1\n",
    "    return df1, df2"
   ]
  },
  {
   "cell_type": "code",
   "execution_count": 19,
   "id": "7305023d-7378-4e31-befa-1d60c1159926",
   "metadata": {},
   "outputs": [],
   "source": [
    "df=pd.read_excel(\"/home/lucas/Documentos/SentimentAnalysisInMentalHealth/Datasets/transcribe_sentiment_classified.xlsx\")"
   ]
  },
  {
   "cell_type": "code",
   "execution_count": 21,
   "id": "c2658edf-91e5-473b-9a42-9b60e1713789",
   "metadata": {},
   "outputs": [],
   "source": [
    "simbols=[]\n",
    "for index,row in df.iterrows():\n",
    "    if row[\"Sentimento\"]==\"neutro\":\n",
    "        simbols.append('n')\n",
    "    elif row[\"Sentimento\"]==\"positivo\":\n",
    "        simbols.append('p')\n",
    "    else:\n",
    "        simbols.append('z')"
   ]
  },
  {
   "cell_type": "code",
   "execution_count": 24,
   "id": "6b71bd18-ab99-4b26-886a-f51fec7217da",
   "metadata": {},
   "outputs": [],
   "source": [
    "df[\"simbol_sentiment\"]=simbols"
   ]
  },
  {
   "cell_type": "code",
   "execution_count": 42,
   "id": "fa7fa603-fc0c-49db-bf49-e83d1b8f3051",
   "metadata": {},
   "outputs": [],
   "source": [
    "####\n",
    "#df.sessao.unique()\n",
    "df_sessao=df.loc[df[\"sessao\"]== 'SPCOMVC_T010_P001_09052020']\n",
    "sumarizacao_sessao=process_dataframe.processar_dataframe(df_sessao,\"Falante\",\"simbol_sentiment\")\n",
    "df_paciente=sumarizacao_sessao[sumarizacao_sessao[\"Categoria\"]==\"p\"]\n",
    "df_terapeuta=sumarizacao_sessao[sumarizacao_sessao[\"Categoria\"]==\"t\"]\n",
    "df_paciente,df_terapeuta=igualar_tamanho(df_paciente,df_terapeuta)"
   ]
  },
  {
   "cell_type": "code",
   "execution_count": 51,
   "id": "e3c0c107-894b-4380-aede-dc6ddc9858cd",
   "metadata": {},
   "outputs": [
    {
     "data": {
      "text/html": [
       "<div>\n",
       "<style scoped>\n",
       "    .dataframe tbody tr th:only-of-type {\n",
       "        vertical-align: middle;\n",
       "    }\n",
       "\n",
       "    .dataframe tbody tr th {\n",
       "        vertical-align: top;\n",
       "    }\n",
       "\n",
       "    .dataframe thead th {\n",
       "        text-align: right;\n",
       "    }\n",
       "</style>\n",
       "<table border=\"1\" class=\"dataframe\">\n",
       "  <thead>\n",
       "    <tr style=\"text-align: right;\">\n",
       "      <th></th>\n",
       "      <th>Categoria</th>\n",
       "      <th>Primeiro_valor_B</th>\n",
       "      <th>Ultimo_valor_B</th>\n",
       "      <th>Mais_repetido_B</th>\n",
       "      <th>inicio</th>\n",
       "    </tr>\n",
       "  </thead>\n",
       "  <tbody>\n",
       "    <tr>\n",
       "      <th>0</th>\n",
       "      <td>t</td>\n",
       "      <td>n</td>\n",
       "      <td>n</td>\n",
       "      <td>n</td>\n",
       "      <td>0.0</td>\n",
       "    </tr>\n",
       "    <tr>\n",
       "      <th>0</th>\n",
       "      <td>p</td>\n",
       "      <td>n</td>\n",
       "      <td>z</td>\n",
       "      <td>z</td>\n",
       "      <td>3.0</td>\n",
       "    </tr>\n",
       "    <tr>\n",
       "      <th>0</th>\n",
       "      <td>t</td>\n",
       "      <td>n</td>\n",
       "      <td>n</td>\n",
       "      <td>n</td>\n",
       "      <td>10.0</td>\n",
       "    </tr>\n",
       "    <tr>\n",
       "      <th>0</th>\n",
       "      <td>p</td>\n",
       "      <td>n</td>\n",
       "      <td>n</td>\n",
       "      <td>n</td>\n",
       "      <td>13.0</td>\n",
       "    </tr>\n",
       "    <tr>\n",
       "      <th>0</th>\n",
       "      <td>t</td>\n",
       "      <td>n</td>\n",
       "      <td>n</td>\n",
       "      <td>n</td>\n",
       "      <td>15.0</td>\n",
       "    </tr>\n",
       "    <tr>\n",
       "      <th>...</th>\n",
       "      <td>...</td>\n",
       "      <td>...</td>\n",
       "      <td>...</td>\n",
       "      <td>...</td>\n",
       "      <td>...</td>\n",
       "    </tr>\n",
       "    <tr>\n",
       "      <th>0</th>\n",
       "      <td>t</td>\n",
       "      <td>n</td>\n",
       "      <td>n</td>\n",
       "      <td>n</td>\n",
       "      <td>1181.0</td>\n",
       "    </tr>\n",
       "    <tr>\n",
       "      <th>0</th>\n",
       "      <td>p</td>\n",
       "      <td>p</td>\n",
       "      <td>p</td>\n",
       "      <td>p</td>\n",
       "      <td>1183.0</td>\n",
       "    </tr>\n",
       "    <tr>\n",
       "      <th>0</th>\n",
       "      <td>t</td>\n",
       "      <td>p</td>\n",
       "      <td>n</td>\n",
       "      <td>n</td>\n",
       "      <td>1184.0</td>\n",
       "    </tr>\n",
       "    <tr>\n",
       "      <th>0</th>\n",
       "      <td>p</td>\n",
       "      <td>n</td>\n",
       "      <td>n</td>\n",
       "      <td>n</td>\n",
       "      <td>1187.0</td>\n",
       "    </tr>\n",
       "    <tr>\n",
       "      <th>0</th>\n",
       "      <td>t</td>\n",
       "      <td>n</td>\n",
       "      <td>n</td>\n",
       "      <td>n</td>\n",
       "      <td>1190.0</td>\n",
       "    </tr>\n",
       "  </tbody>\n",
       "</table>\n",
       "<p>175 rows × 5 columns</p>\n",
       "</div>"
      ],
      "text/plain": [
       "   Categoria Primeiro_valor_B Ultimo_valor_B Mais_repetido_B  inicio\n",
       "0          t                n              n               n     0.0\n",
       "0          p                n              z               z     3.0\n",
       "0          t                n              n               n    10.0\n",
       "0          p                n              n               n    13.0\n",
       "0          t                n              n               n    15.0\n",
       "..       ...              ...            ...             ...     ...\n",
       "0          t                n              n               n  1181.0\n",
       "0          p                p              p               p  1183.0\n",
       "0          t                p              n               n  1184.0\n",
       "0          p                n              n               n  1187.0\n",
       "0          t                n              n               n  1190.0\n",
       "\n",
       "[175 rows x 5 columns]"
      ]
     },
     "execution_count": 51,
     "metadata": {},
     "output_type": "execute_result"
    }
   ],
   "source": [
    "sumarizacao_sessao"
   ]
  },
  {
   "cell_type": "code",
   "execution_count": 46,
   "id": "6440f768-222a-4410-b495-44ed2142e9be",
   "metadata": {},
   "outputs": [],
   "source": [
    "string_paciente=concatenar_coluna_para_string(df_paciente, \"Primeiro_valor_B\")\n",
    "string_terapeuta=concatenar_coluna_para_string(df_terapeuta, \"Primeiro_valor_B\")"
   ]
  },
  {
   "cell_type": "code",
   "execution_count": 53,
   "id": "adffa9d3-413b-4d5d-84a1-c8bb81091b11",
   "metadata": {},
   "outputs": [
    {
     "data": {
      "text/plain": [
       "(674,\n",
       " '-nn--nnpnnnnz-------nnnpznppnz--nnznnnnnznznnnnzn-nnnnznnnnpnnnnpnnnnnnnnznpnnznnnznnnnnnnnnnznnn-npn',\n",
       " 'nnnzznn-nnnnznnnnnnnnnn-zn--nznnnn-nnnnnzn-nnnn-npnnnn-nnnn-nnnn-nnnnnnnn-n-nnznnnznnnnnnnnnn-nnnpnp-')"
      ]
     },
     "execution_count": 53,
     "metadata": {},
     "output_type": "execute_result"
    }
   ],
   "source": [
    "function.needleman_wunsch(string_paciente, string_terapeuta, match_score=10, mismatch_score=-10, gap_penalty=-2)"
   ]
  },
  {
   "cell_type": "code",
   "execution_count": 57,
   "id": "133234ef-6927-4da9-8f96-b06d82ea4745",
   "metadata": {},
   "outputs": [
    {
     "name": "stderr",
     "output_type": "stream",
     "text": [
      "/tmp/ipykernel_1402556/2623530329.py:19: FutureWarning: The behavior of DataFrame concatenation with empty or all-NA entries is deprecated. In a future version, this will no longer exclude empty or all-NA columns when determining the result dtypes. To retain the old behavior, exclude the relevant entries before the concat operation.\n",
      "  df_output = pd.concat([df_output,pd.DataFrame.from_dict({'sessao': [sessao],\n"
     ]
    }
   ],
   "source": [
    "df_output=pd.DataFrame(columns=['sessao', 'itens_paciente', 'itens_terapeuta','WaiPaciente','WaiTerapeuta','score'])\n",
    "for sessao in df.sessao.unique():\n",
    "    df_sessao=df.loc[df[\"sessao\"]== sessao]\n",
    "    sentimentos=[\"p\",\"n\",\"z\"]\n",
    "    combinacoes_sentimento = [(sentimento_p, sentimento_t) for sentimento_p in [\"positivo\",\"negativo\",\"neutro\"] \n",
    "                                       for sentimento_t in [\"positivo\",\"negativo\",\"neutro\"] ]\n",
    "    sumarizacao_sessao=process_dataframe.processar_dataframe(df_sessao,\"Falante\",\"simbol_sentiment\")\n",
    "    df_paciente=sumarizacao_sessao[sumarizacao_sessao[\"Categoria\"]==\"p\"]\n",
    "    df_terapeuta=sumarizacao_sessao[sumarizacao_sessao[\"Categoria\"]==\"t\"]\n",
    "    df_paciente,df_terapeuta=igualar_tamanho(df_paciente,df_terapeuta)\n",
    "    combinacoes_itens = [(p, t) for p in [\"Primeiro_valor_B\", \"Ultimo_valor_B\", \"Media_B\"] \n",
    "                                       for t in [\"Primeiro_valor_B\", \"Ultimo_valor_B\", \"Media_B\"]]\n",
    "        \n",
    "        # Loop sobre as combinações de itens_paciente e itens_terapeuta\n",
    "    for itens_paciente, itens_terapeuta in combinacoes_itens:\n",
    "        string_paciente=concatenar_coluna_para_string(df_paciente, itens_paciente)\n",
    "        string_terapeuta=concatenar_coluna_para_string(df_terapeuta, itens_terapeuta)\n",
    "        score,x1,x2=function.needleman_wunsch(string_paciente, string_terapeuta, match_score=1, mismatch_score=-1, gap_penalty=-1)\n",
    "        df_output = pd.concat([df_output,pd.DataFrame.from_dict({'sessao': [sessao], \n",
    "                                                                             'itens_paciente': [itens_paciente], \n",
    "                                                                             'itens_terapeuta': [itens_terapeuta], \n",
    "                                                                             'WaiPaciente':[df_sessao[\"WAI-SR-P TOTAL\"].values[0]],\n",
    "                                                                             'WaiTerapeuta':[df_sessao[\"WAI-SR-T TOTAL\"].values[0]],\n",
    "                                                                             'score':[score]\n",
    "                                                                            })])"
   ]
  },
  {
   "cell_type": "code",
   "execution_count": 59,
   "id": "a81ba539-bf3a-4228-993e-9cd7a02cc562",
   "metadata": {},
   "outputs": [],
   "source": [
    "df_output.to_excel(\"result_NW.xlsx\")"
   ]
  },
  {
   "cell_type": "code",
   "execution_count": 60,
   "id": "8bb231f9-61ba-498b-99e8-ec0b9447ed96",
   "metadata": {},
   "outputs": [],
   "source": [
    "df_result=pd.read_excel(\"result_NW2.xlsx\")"
   ]
  },
  {
   "cell_type": "code",
   "execution_count": 61,
   "id": "f38781be-adb4-4c5b-9ca7-e9a50c8e2e91",
   "metadata": {},
   "outputs": [
    {
     "data": {
      "text/html": [
       "<div>\n",
       "<style scoped>\n",
       "    .dataframe tbody tr th:only-of-type {\n",
       "        vertical-align: middle;\n",
       "    }\n",
       "\n",
       "    .dataframe tbody tr th {\n",
       "        vertical-align: top;\n",
       "    }\n",
       "\n",
       "    .dataframe thead th {\n",
       "        text-align: right;\n",
       "    }\n",
       "</style>\n",
       "<table border=\"1\" class=\"dataframe\">\n",
       "  <thead>\n",
       "    <tr style=\"text-align: right;\">\n",
       "      <th></th>\n",
       "      <th>sessao</th>\n",
       "      <th>itens_paciente</th>\n",
       "      <th>itens_terapeuta</th>\n",
       "      <th>WaiPaciente</th>\n",
       "      <th>WaiTerapeuta</th>\n",
       "      <th>score</th>\n",
       "      <th>Comb</th>\n",
       "    </tr>\n",
       "  </thead>\n",
       "  <tbody>\n",
       "    <tr>\n",
       "      <th>0</th>\n",
       "      <td>SPCOMVC_T010_P001_09052020</td>\n",
       "      <td>Primeiro_valor_B</td>\n",
       "      <td>Media_B</td>\n",
       "      <td>38.0</td>\n",
       "      <td>38.0</td>\n",
       "      <td>-79</td>\n",
       "      <td>3.0</td>\n",
       "    </tr>\n",
       "    <tr>\n",
       "      <th>1</th>\n",
       "      <td>SPCOMVC_T001_P002_11052020</td>\n",
       "      <td>Primeiro_valor_B</td>\n",
       "      <td>Media_B</td>\n",
       "      <td>42.0</td>\n",
       "      <td>42.0</td>\n",
       "      <td>-236</td>\n",
       "      <td>3.0</td>\n",
       "    </tr>\n",
       "    <tr>\n",
       "      <th>2</th>\n",
       "      <td>SPCOMVC_T001_P002_11062020</td>\n",
       "      <td>Primeiro_valor_B</td>\n",
       "      <td>Media_B</td>\n",
       "      <td>50.0</td>\n",
       "      <td>50.0</td>\n",
       "      <td>-120</td>\n",
       "      <td>3.0</td>\n",
       "    </tr>\n",
       "    <tr>\n",
       "      <th>3</th>\n",
       "      <td>SPCOMVC_T001_P002_18052020</td>\n",
       "      <td>Primeiro_valor_B</td>\n",
       "      <td>Media_B</td>\n",
       "      <td>45.0</td>\n",
       "      <td>45.0</td>\n",
       "      <td>-343</td>\n",
       "      <td>3.0</td>\n",
       "    </tr>\n",
       "    <tr>\n",
       "      <th>4</th>\n",
       "      <td>SPCOMVC_T001_P002_24062020</td>\n",
       "      <td>Primeiro_valor_B</td>\n",
       "      <td>Media_B</td>\n",
       "      <td>49.0</td>\n",
       "      <td>49.0</td>\n",
       "      <td>-192</td>\n",
       "      <td>3.0</td>\n",
       "    </tr>\n",
       "  </tbody>\n",
       "</table>\n",
       "</div>"
      ],
      "text/plain": [
       "                       sessao    itens_paciente itens_terapeuta  WaiPaciente  \\\n",
       "0  SPCOMVC_T010_P001_09052020  Primeiro_valor_B         Media_B         38.0   \n",
       "1  SPCOMVC_T001_P002_11052020  Primeiro_valor_B         Media_B         42.0   \n",
       "2  SPCOMVC_T001_P002_11062020  Primeiro_valor_B         Media_B         50.0   \n",
       "3  SPCOMVC_T001_P002_18052020  Primeiro_valor_B         Media_B         45.0   \n",
       "4  SPCOMVC_T001_P002_24062020  Primeiro_valor_B         Media_B         49.0   \n",
       "\n",
       "   WaiTerapeuta  score  Comb  \n",
       "0          38.0    -79   3.0  \n",
       "1          42.0   -236   3.0  \n",
       "2          50.0   -120   3.0  \n",
       "3          45.0   -343   3.0  \n",
       "4          49.0   -192   3.0  "
      ]
     },
     "execution_count": 61,
     "metadata": {},
     "output_type": "execute_result"
    }
   ],
   "source": [
    "df_result.head()"
   ]
  },
  {
   "cell_type": "code",
   "execution_count": 64,
   "id": "71a05f82-cdb2-4647-8db8-297d9fdb65f5",
   "metadata": {},
   "outputs": [
    {
     "name": "stdout",
     "output_type": "stream",
     "text": [
      "3.0 0.0923867159389665\n",
      "1.0 -0.14750348868847277\n",
      "2.0 -0.20839223343950172\n",
      "6.0 0.09350972529632767\n",
      "4.0 -0.15323109924819356\n",
      "5.0 -0.20734753927338878\n",
      "9.0 0.11893653420753485\n",
      "7.0 0.10962907033658507\n",
      "8.0 0.12409213565002158\n",
      "nan nan\n"
     ]
    }
   ],
   "source": [
    "correl_list_paciente=[]\n",
    "correl_list_terapeuta=[]\n",
    "for comb in df_result.Comb.unique():\n",
    "    df_result_comb=df_result[df_result[\"Comb\"]==comb]\n",
    "    #for index,row in df_result_comb.iterrows():\n",
    "    #    if not np.isnotnan(row[\"max\"]) and not np.isnan(row[\"max\"]):\n",
    "    df_filtrado_T = df_result_comb.dropna(subset=['WaiTerapeuta'])\n",
    "    df_filtrado_P = df_result_comb.dropna(subset=['WaiPaciente'])\n",
    "    correl_list_terapeuta.append(df_filtrado_T['score'].corr(df_filtrado_T['WaiTerapeuta']))\n",
    "    correl_list_paciente.append(df_filtrado_P['score'].corr(df_filtrado_P['WaiPaciente']))\n",
    "    print(comb,df_filtrado_P['score'].corr(df_filtrado_T['WaiPaciente']))"
   ]
  },
  {
   "cell_type": "code",
   "execution_count": null,
   "id": "6abe3798-7120-4dd2-8ad0-61bcced4d787",
   "metadata": {},
   "outputs": [],
   "source": []
  }
 ],
 "metadata": {
  "kernelspec": {
   "display_name": "Python 3 (ipykernel)",
   "language": "python",
   "name": "python3"
  },
  "language_info": {
   "codemirror_mode": {
    "name": "ipython",
    "version": 3
   },
   "file_extension": ".py",
   "mimetype": "text/x-python",
   "name": "python",
   "nbconvert_exporter": "python",
   "pygments_lexer": "ipython3",
   "version": "3.10.12"
  }
 },
 "nbformat": 4,
 "nbformat_minor": 5
}
