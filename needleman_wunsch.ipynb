{
 "cells": [
  {
   "cell_type": "code",
   "execution_count": 1,
   "id": "308069bb-d155-4a34-b468-7916808a286c",
   "metadata": {
    "tags": []
   },
   "outputs": [],
   "source": [
    "import pandas as pd\n",
    "from utils import process_dataframe\n",
    "from utils import function\n",
    "import itertools\n",
    "import time"
   ]
  },
  {
   "cell_type": "code",
   "execution_count": 2,
   "id": "5c2f172a-0cf0-412b-97e7-d9757a5576fd",
   "metadata": {
    "tags": []
   },
   "outputs": [],
   "source": [
    "def generate_substitution_matrices(symbols, range_vals):\n",
    "    pairs = list(itertools.product(symbols, repeat=2))\n",
    "    value_combinations = list(itertools.product(range_vals, repeat=len(pairs)))\n",
    "    \n",
    "    matrices = []\n",
    "    for values in value_combinations:\n",
    "        matrix = {pair: value for pair, value in zip(pairs, values)}\n",
    "        matrices.append(matrix)\n",
    "    \n",
    "    return matrices\n"
   ]
  },
  {
   "cell_type": "code",
   "execution_count": 5,
   "id": "273a8311-a8d3-454a-8639-4ce3a5190d3d",
   "metadata": {
    "tags": []
   },
   "outputs": [],
   "source": [
    "def concatenar_coluna_para_string(df, nome_coluna):\n",
    "    # Verificar se a coluna existe no dataframe\n",
    "    if nome_coluna not in df.columns:\n",
    "        return \"Coluna não encontrada.\"\n",
    "\n",
    "    # Concatenar todos os itens da coluna em uma string\n",
    "    string_concatenada = ''.join(df[nome_coluna].astype(str))\n",
    "\n",
    "    return string_concatenada"
   ]
  },
  {
   "cell_type": "code",
   "execution_count": 7,
   "id": "8f745ae4-b963-4c6d-95f7-2a4047b6409b",
   "metadata": {
    "tags": []
   },
   "outputs": [],
   "source": [
    "def igualar_tamanho(df1, df2):\n",
    "    if len(df1) > len(df2):\n",
    "        df1=df1.head(-1)\n",
    "    elif len(df2) > len(df1):\n",
    "        df2=df2.head(-1)\n",
    "    else:\n",
    "        a=1\n",
    "    return df1, df2"
   ]
  },
  {
   "cell_type": "code",
   "execution_count": 9,
   "id": "72310978-54f2-44f1-a5ea-4edb79cdaad7",
   "metadata": {
    "tags": []
   },
   "outputs": [
    {
     "name": "stdout",
     "output_type": "stream",
     "text": [
      "/c/Users/lucas/Documents/SentimentAnalysisInMentalHealth\n"
     ]
    }
   ],
   "source": [
    "!pwd"
   ]
  },
  {
   "cell_type": "code",
   "execution_count": 11,
   "id": "7305023d-7378-4e31-befa-1d60c1159926",
   "metadata": {
    "tags": []
   },
   "outputs": [],
   "source": [
    "df=pd.read_excel(\"ResultadoFineTuning.xlsx\")"
   ]
  },
  {
   "cell_type": "code",
   "execution_count": 13,
   "id": "c2658edf-91e5-473b-9a42-9b60e1713789",
   "metadata": {
    "tags": []
   },
   "outputs": [],
   "source": [
    "simbols=[]\n",
    "for index,row in df.iterrows():\n",
    "    if row[\"result_fine_tuning_text\"]==\"neutro\":\n",
    "        simbols.append('n')\n",
    "    elif row[\"result_fine_tuning_text\"]==\"positivo\":\n",
    "        simbols.append('p')\n",
    "    else:\n",
    "        simbols.append('z')"
   ]
  },
  {
   "cell_type": "code",
   "execution_count": 15,
   "id": "6b71bd18-ab99-4b26-886a-f51fec7217da",
   "metadata": {
    "tags": []
   },
   "outputs": [],
   "source": [
    "df[\"simbol_sentiment\"]=simbols"
   ]
  },
  {
   "cell_type": "code",
   "execution_count": 17,
   "id": "4bf4a257-bd1c-41cb-a001-5923a090adaf",
   "metadata": {
    "tags": []
   },
   "outputs": [],
   "source": [
    "symbols = ['p', 'n', 'z']\n",
    "\n",
    "# Intervalo de valores possíveis para as penalidades\n",
    "range_vals = list(range(-1, 2))  # [-2, -1, 0, 1, 2]\n",
    "\n",
    "# Gerar todas as possíveis matrizes de substituição\n",
    "all_matrices = generate_substitution_matrices(symbols, range_vals)"
   ]
  },
  {
   "cell_type": "code",
   "execution_count": 23,
   "id": "234d47a3-4d79-4d18-8da1-e215d59769c1",
   "metadata": {
    "tags": []
   },
   "outputs": [
    {
     "data": {
      "text/plain": [
       "19683"
      ]
     },
     "execution_count": 23,
     "metadata": {},
     "output_type": "execute_result"
    }
   ],
   "source": [
    "len(all_matrices)"
   ]
  },
  {
   "cell_type": "code",
   "execution_count": 25,
   "id": "3f70bfb3-9580-4d3f-8ee3-762d676935f4",
   "metadata": {
    "tags": []
   },
   "outputs": [
    {
     "name": "stdout",
     "output_type": "stream",
     "text": [
      "-1\n",
      "0\n",
      "1\n"
     ]
    }
   ],
   "source": [
    "for i in range(-1, 2):\n",
    "    print(i)"
   ]
  },
  {
   "cell_type": "code",
   "execution_count": 27,
   "id": "133234ef-6927-4da9-8f96-b06d82ea4745",
   "metadata": {
    "tags": []
   },
   "outputs": [
    {
     "name": "stdout",
     "output_type": "stream",
     "text": [
      "SPCOMVC_T010_P001_09052020 1\n"
     ]
    }
   ],
   "source": [
    "start_time = time.time()\n",
    "count=1\n",
    "df_output=pd.DataFrame(columns=['sessao', 'itens_paciente', 'itens_terapeuta','score_ultimo','score_max','matriz'])\n",
    "for sessao  in ['SPCOMVC_T010_P001_09052020']:#in df.sessao.unique():#\n",
    "    print(sessao,count)\n",
    "    count=+1\n",
    "    df_sessao=df.loc[df[\"sessao\"]== sessao]\n",
    "    sentimentos=[\"p\",\"n\",\"z\"]\n",
    "    sumarizacao_sessao_paciente=function.processar_dataframe(df_sessao,\"Falante\",\"simbol_sentiment\")\n",
    "    sumarizacao_sessao_terapeuta=function.processar_dataframe(df_sessao,\"Falante\",\"simbol_sentiment\")\n",
    "    df_paciente=sumarizacao_sessao_paciente[sumarizacao_sessao_paciente[\"Categoria\"]==\"p\"]\n",
    "    df_terapeuta=sumarizacao_sessao_terapeuta[sumarizacao_sessao_terapeuta[\"Categoria\"]==\"t\"]\n",
    "    df_paciente,df_terapeuta=igualar_tamanho(df_paciente,df_terapeuta)\n",
    "    combinacoes_itens = [(p, t) for p in [\"Primeiro_valor_B\", \"Ultimo_valor_B\", \"Mais_repetido_B\"] \n",
    "                                   for t in [\"Primeiro_valor_B\", \"Ultimo_valor_B\", \"Mais_repetido_B\"]]\n",
    "        # Loop sobre as combinações de itens_paciente e itens_terapeuta\n",
    "    for itens_paciente, itens_terapeuta in combinacoes_itens:\n",
    "        dataframe_serie = pd.DataFrame(columns=['Paciente', 'Terapeuta'])\n",
    "        dataframe_serie['Paciente']=df_paciente[itens_paciente].values\n",
    "        dataframe_serie['Terapeuta']=df_terapeuta[itens_terapeuta].values\n",
    "        string_paciente=concatenar_coluna_para_string(df_paciente, itens_paciente)\n",
    "        string_terapeuta=concatenar_coluna_para_string(df_terapeuta, itens_terapeuta)\n",
    "        for matriz in  all_matrices:\n",
    "            score_last,score_max=function.needleman_wunsch_matriz(seq1=string_paciente, seq2= string_terapeuta,gap=-1,substitution_matrix=matriz)\n",
    "            df_output = pd.concat([df_output,pd.DataFrame.from_dict({'sessao': [sessao], \n",
    "                                                                             'itens_paciente': [itens_paciente], \n",
    "                                                                             'itens_terapeuta': [itens_terapeuta], \n",
    "                                                                             'score_ultimo':[score_last],\n",
    "                                                                             'score_max':[score_max],\n",
    "                                                                             'matriz':[matriz]\n",
    "                                                                            })])\n",
    "end_time = time.time()"
   ]
  },
  {
   "cell_type": "code",
   "execution_count": 28,
   "id": "4a2619e0-4b2c-4e64-a02f-4c40b6dee9f3",
   "metadata": {
    "tags": []
   },
   "outputs": [
    {
     "name": "stdout",
     "output_type": "stream",
     "text": [
      "Tempo de execução: 1014.5217974185944 segundos\n"
     ]
    }
   ],
   "source": [
    "execution_time = end_time - start_time\n",
    "print(f\"Tempo de execução: {execution_time} segundos\")"
   ]
  },
  {
   "cell_type": "code",
   "execution_count": null,
   "id": "a81ba539-bf3a-4228-993e-9cd7a02cc562",
   "metadata": {
    "tags": []
   },
   "outputs": [],
   "source": [
    "df_output"
   ]
  },
  {
   "cell_type": "code",
   "execution_count": null,
   "id": "cdca9e66-fe0e-4895-81a0-59bcda4093cc",
   "metadata": {
    "tags": []
   },
   "outputs": [],
   "source": [
    "1+1"
   ]
  },
  {
   "cell_type": "code",
   "execution_count": null,
   "id": "8bb231f9-61ba-498b-99e8-ec0b9447ed96",
   "metadata": {},
   "outputs": [],
   "source": [
    "df_output_unique=df_output[[\"sentimento paciente\",\n",
    "           \"itens_paciente\",\n",
    "           \"sentimento terapeuta\",\"itens_terapeuta\",\t\n",
    "           \"window\",\n",
    "           \"winc\",\n",
    "           \"lag\"]].drop_duplicates()"
   ]
  },
  {
   "cell_type": "code",
   "execution_count": null,
   "id": "f38781be-adb4-4c5b-9ca7-e9a50c8e2e91",
   "metadata": {},
   "outputs": [],
   "source": [
    "df_result.head()"
   ]
  },
  {
   "cell_type": "code",
   "execution_count": null,
   "id": "71a05f82-cdb2-4647-8db8-297d9fdb65f5",
   "metadata": {},
   "outputs": [],
   "source": [
    "correl_max_mean_list_paciente=[]\n",
    "p_valor_max_mean_list_paciente=[]\n",
    "correl_max_mean_list_terapeuta=[]\n",
    "p_valor_max_mean_list_terapeuta=[]\n",
    "correl_min_mean_list_paciente=[]\n",
    "p_valor_min_mean_list_paciente=[]\n",
    "correl_min_mean_list_terapeuta=[]\n",
    "p_valor_min_mean_list_terapeuta=[]\n",
    "correl_max_median_list_paciente=[]\n",
    "p_valor_max_median_list_paciente=[]\n",
    "correl_max_median_list_terapeuta=[]\n",
    "p_valor_max_median_list_terapeuta=[]\n",
    "correl_min_median_list_paciente=[]\n",
    "p_valor_min_median_list_paciente=[]\n",
    "correl_min_median_list_terapeuta=[]\n",
    "p_valor_min_median_list_terapeuta=[]\n",
    "for index,row in df_output_unique.iterrows():\n",
    "    df_result_comb=df_output[(df_output[\"sentimento paciente\"]==row[\"sentimento paciente\"])&\n",
    "                            (df_output[\"itens_paciente\"]==row[\"itens_paciente\"])&\n",
    "                            (df_output[\"sentimento terapeuta\"]==row[\"sentimento terapeuta\"])&\n",
    "                            (df_output[\"itens_terapeuta\"]==row[\"itens_terapeuta\"])&\n",
    "                            (df_output[\"window\"]==row[\"window\"])&\n",
    "                            (df_output[\"winc\"]==row[\"winc\"])&\n",
    "                            (df_output[\"lag\"]==row[\"lag\"])\n",
    "                            ]\n",
    "    correl_max_mean_list_terapeuta.append(calcular_correlacao(df_result_comb, 'max_mean', 'WaiTerapeuta')[0])\n",
    "    p_valor_max_mean_list_terapeuta.append(calcular_correlacao(df_result_comb, 'max_mean', 'WaiTerapeuta')[1])\n",
    "    correl_max_mean_list_paciente.append(calcular_correlacao(df_result_comb, 'max_mean', 'WaiPaciente')[0])\n",
    "    p_valor_max_mean_list_paciente.append(calcular_correlacao(df_result_comb, 'max_mean', 'WaiPaciente')[1])\n",
    "    correl_min_mean_list_terapeuta.append(calcular_correlacao(df_result_comb, 'min_mean', 'WaiTerapeuta')[0])\n",
    "    p_valor_min_mean_list_terapeuta.append(calcular_correlacao(df_result_comb, 'min_mean', 'WaiTerapeuta')[1])\n",
    "    correl_min_mean_list_paciente.append(calcular_correlacao(df_result_comb, 'min_mean', 'WaiPaciente')[0])\n",
    "    p_valor_min_mean_list_paciente.append(calcular_correlacao(df_result_comb, 'min_mean', 'WaiPaciente')[1])\n",
    "    correl_max_median_list_terapeuta.append(calcular_correlacao(df_result_comb, 'max_median', 'WaiTerapeuta')[0])\n",
    "    p_valor_max_median_list_terapeuta.append(calcular_correlacao(df_result_comb, 'max_median', 'WaiTerapeuta')[1])\n",
    "    correl_max_median_list_paciente.append(calcular_correlacao(df_result_comb, 'max_median', 'WaiPaciente')[0])\n",
    "    p_valor_max_median_list_paciente.append(calcular_correlacao(df_result_comb, 'max_median', 'WaiPaciente')[1])\n",
    "    correl_min_median_list_terapeuta.append(calcular_correlacao(df_result_comb, 'min_median', 'WaiTerapeuta')[0])\n",
    "    p_valor_min_median_list_terapeuta.append(calcular_correlacao(df_result_comb, 'min_median', 'WaiTerapeuta')[1])\n",
    "    correl_min_median_list_paciente.append(calcular_correlacao(df_result_comb, 'min_median', 'WaiPaciente')[0])\n",
    "    p_valor_min_median_list_paciente.append(calcular_correlacao(df_result_comb, 'min_median', 'WaiPaciente')[1])\n",
    "    #print(comb,df_filtrado_max_mean_T['max_mean'].corr(df_filtrado_max_mean_T['WaiTerapeuta']))"
   ]
  },
  {
   "cell_type": "code",
   "execution_count": null,
   "id": "6abe3798-7120-4dd2-8ad0-61bcced4d787",
   "metadata": {},
   "outputs": [],
   "source": []
  }
 ],
 "metadata": {
  "kernelspec": {
   "display_name": "Python 3 (ipykernel)",
   "language": "python",
   "name": "python3"
  },
  "language_info": {
   "codemirror_mode": {
    "name": "ipython",
    "version": 3
   },
   "file_extension": ".py",
   "mimetype": "text/x-python",
   "name": "python",
   "nbconvert_exporter": "python",
   "pygments_lexer": "ipython3",
   "version": "3.11.5"
  }
 },
 "nbformat": 4,
 "nbformat_minor": 5
}
