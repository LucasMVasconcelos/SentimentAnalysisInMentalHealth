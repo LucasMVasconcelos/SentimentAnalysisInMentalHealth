{
 "cells": [
  {
   "cell_type": "code",
   "execution_count": 1,
   "id": "574368d9-c2cd-4994-ae18-5b4f00b9c2be",
   "metadata": {},
   "outputs": [
    {
     "name": "stdout",
     "output_type": "stream",
     "text": [
      "Scores de cada fold: [1.         1.         0.93333333 0.96666667 0.96666667]\n",
      "Média dos scores: 0.9733333333333334\n",
      "Desvio padrão dos scores: 0.024944382578492935\n"
     ]
    }
   ],
   "source": [
    "import numpy as np\n",
    "from sklearn.datasets import load_iris\n",
    "from sklearn.model_selection import KFold, cross_val_score\n",
    "from sklearn.linear_model import LogisticRegression\n",
    "\n",
    "# Carregar um conjunto de dados de exemplo\n",
    "data = load_iris()\n",
    "X, y = data.data, data.target\n",
    "\n",
    "# Definir o número de folds\n",
    "k = 5\n",
    "\n",
    "# Configurar o K-Fold Cross Validation\n",
    "kf = KFold(n_splits=k, shuffle=True, random_state=42)\n",
    "\n",
    "# Inicializar o modelo\n",
    "model = LogisticRegression(max_iter=200)\n",
    "\n",
    "# Avaliar o modelo usando K-Fold Cross Validation\n",
    "scores = cross_val_score(model, X, y, cv=kf)\n",
    "\n",
    "# Imprimir os scores de cada fold e a média final\n",
    "print(f\"Scores de cada fold: {scores}\")\n",
    "print(f\"Média dos scores: {np.mean(scores)}\")\n",
    "print(f\"Desvio padrão dos scores: {np.std(scores)}\")"
   ]
  },
  {
   "cell_type": "code",
   "execution_count": 2,
   "id": "082b98b5-32aa-4a60-bda9-7634f00e06c9",
   "metadata": {},
   "outputs": [],
   "source": [
    "import numpy as np\n",
    "from sklearn.datasets import load_iris\n",
    "from sklearn.model_selection import StratifiedKFold\n",
    "from sklearn.linear_model import LogisticRegression\n",
    "from sklearn.metrics import accuracy_score\n",
    "\n",
    "# Carregar um conjunto de dados de exemplo\n",
    "data = load_iris()\n",
    "X, y = data.data, data.target\n",
    "\n",
    "# Definir o número de folds\n",
    "k = 5\n",
    "\n",
    "# Configurar o StratifiedKFold Cross Validation\n",
    "skf = StratifiedKFold(n_splits=k, shuffle=True, random_state=42)\n",
    "\n",
    "# Inicializar o modelo\n",
    "model = LogisticRegression(max_iter=200)\n",
    "\n",
    "# Lista para armazenar os scores\n",
    "scores = []\n",
    "\n",
    "# Iterar sobre cada fold\n",
    "for train_index, test_index in skf.split(X, y):\n",
    "    X_train, X_test = X[train_index], X[test_index]\n",
    "    y_train, y_test = y[train_index], y[test_index]\n",
    "\n",
    "    # Treinar o modelo\n",
    "    model.fit(X_train, y_train)\n",
    "    \n",
    "    # Prever e calcular o score\n",
    "    y_pred = model.predict(X_test)\n",
    "    score = accuracy_score(y_test, y_pred)\n",
    "    scores.append(score)\n"
   ]
  },
  {
   "cell_type": "markdown",
   "id": "d6b68605-ad07-4972-bf9f-faaf43397015",
   "metadata": {},
   "source": [
    "# Will kocson"
   ]
  },
  {
   "cell_type": "code",
   "execution_count": 6,
   "id": "776c083f-905d-471d-9d35-0ee91bed34fa",
   "metadata": {},
   "outputs": [
    {
     "name": "stdout",
     "output_type": "stream",
     "text": [
      "Estatística do teste: 5.5\n",
      "Valor-p: 0.02734375\n",
      "Rejeitar a hipótese nula - há uma diferença significativa\n"
     ]
    }
   ],
   "source": [
    "import numpy as np\n",
    "from scipy.stats import wilcoxon\n",
    "\n",
    "# Exemplo de dados: duas amostras dependentes\n",
    "before_treatment = np.array([85, 88, 89, 91, 92, 93, 95, 96, 97, 99])\n",
    "after_treatment = np.array([86, 87, 88, 90, 91, 92, 94, 95, 96, 98])\n",
    "\n",
    "# Realizar o teste de Wilcoxon\n",
    "stat, p = wilcoxon(before_treatment, after_treatment)\n",
    "\n",
    "print(f\"Estatística do teste: {stat}\")\n",
    "print(f\"Valor-p: {p}\")\n",
    "\n",
    "# Interpretação dos resultados\n",
    "alpha = 0.05\n",
    "if p > alpha:\n",
    "    print(\"Falha em rejeitar a hipótese nula - não há diferença significativa\")\n",
    "else:\n",
    "    print(\"Rejeitar a hipótese nula - há uma diferença significativa\")"
   ]
  },
  {
   "cell_type": "code",
   "execution_count": null,
   "id": "76bc162c-df5a-49fe-911c-f6b7ab66e2a3",
   "metadata": {},
   "outputs": [],
   "source": []
  }
 ],
 "metadata": {
  "kernelspec": {
   "display_name": "Python 3 (ipykernel)",
   "language": "python",
   "name": "python3"
  },
  "language_info": {
   "codemirror_mode": {
    "name": "ipython",
    "version": 3
   },
   "file_extension": ".py",
   "mimetype": "text/x-python",
   "name": "python",
   "nbconvert_exporter": "python",
   "pygments_lexer": "ipython3",
   "version": "3.10.12"
  }
 },
 "nbformat": 4,
 "nbformat_minor": 5
}
